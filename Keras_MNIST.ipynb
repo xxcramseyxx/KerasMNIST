{
  "nbformat": 4,
  "nbformat_minor": 0,
  "metadata": {
    "colab": {
      "name": "Keras MNIST.ipynb",
      "provenance": [],
      "authorship_tag": "ABX9TyMjyOoLgh5qyHSKlOCcs0zF",
      "include_colab_link": true
    },
    "kernelspec": {
      "name": "python3",
      "display_name": "Python 3"
    }
  },
  "cells": [
    {
      "cell_type": "markdown",
      "metadata": {
        "id": "view-in-github",
        "colab_type": "text"
      },
      "source": [
        "<a href=\"https://colab.research.google.com/github/xxcramseyxx/KerasMNIST/blob/main/Keras_MNIST.ipynb\" target=\"_parent\"><img src=\"https://colab.research.google.com/assets/colab-badge.svg\" alt=\"Open In Colab\"/></a>"
      ]
    },
    {
      "cell_type": "code",
      "metadata": {
        "id": "1xpGC-bZ9miC",
        "colab": {
          "base_uri": "https://localhost:8080/",
          "height": 85
        },
        "outputId": "c5ee97c5-39d8-4650-cd77-1e7e47ac5a5b"
      },
      "source": [
        "from keras.models import Sequential\n",
        "from keras.layers.core import Dense, Activation\n",
        "from keras.optimizers import SGD\n",
        "from keras.utils import np_utils\n",
        "from keras.datasets import mnist\n",
        "import numpy as np\n",
        "import matplotlib.pyplot as plt\n",
        "\n",
        "(x_train, y_train), (x_test, y_test) = mnist.load_data()\n",
        "print(x_train.shape)\n",
        "print(x_test.shape)\n",
        "print(y_train.shape)\n",
        "print(y_test.shape)"
      ],
      "execution_count": null,
      "outputs": [
        {
          "output_type": "stream",
          "text": [
            "(60000, 28, 28)\n",
            "(10000, 28, 28)\n",
            "(60000,)\n",
            "(10000,)\n"
          ],
          "name": "stdout"
        }
      ]
    },
    {
      "cell_type": "code",
      "metadata": {
        "id": "hKDiy4sNCo9O"
      },
      "source": [
        "reshape = 784\n",
        "x_train = x_train.reshape(60000, reshape)\n",
        "x_test = x_test.reshape(10000, reshape)\n",
        "x_train = x_train.astype('float32')\n",
        "x_test = x_test.astype('float32')\n"
      ],
      "execution_count": null,
      "outputs": []
    },
    {
      "cell_type": "code",
      "metadata": {
        "id": "3vWqzSqsDQQg",
        "colab": {
          "base_uri": "https://localhost:8080/",
          "height": 34
        },
        "outputId": "28600394-8f42-42b6-bfb3-f08898176e35"
      },
      "source": [
        "#pixel values are between 0 - 255\n",
        "x_train /= 255\n",
        "x_test /= 255\n",
        "\n",
        "print (x_train.shape[1])"
      ],
      "execution_count": null,
      "outputs": [
        {
          "output_type": "stream",
          "text": [
            "784\n"
          ],
          "name": "stdout"
        }
      ]
    },
    {
      "cell_type": "code",
      "metadata": {
        "id": "NaNdttOpFeys"
      },
      "source": [
        "Y_train = np_utils.to_categorical(y_train, 10)\n",
        "Y_test = np_utils.to_categorical(y_test, 10)\n",
        "\n"
      ],
      "execution_count": null,
      "outputs": []
    },
    {
      "cell_type": "code",
      "metadata": {
        "id": "g68lkyYKGHf_",
        "colab": {
          "base_uri": "https://localhost:8080/",
          "height": 136
        },
        "outputId": "ea1a81ad-76f3-409b-f108-09dc22dd4fbb"
      },
      "source": [
        "print(Y_train)"
      ],
      "execution_count": null,
      "outputs": [
        {
          "output_type": "stream",
          "text": [
            "[[0. 0. 0. ... 0. 0. 0.]\n",
            " [1. 0. 0. ... 0. 0. 0.]\n",
            " [0. 0. 0. ... 0. 0. 0.]\n",
            " ...\n",
            " [0. 0. 0. ... 0. 0. 0.]\n",
            " [0. 0. 0. ... 0. 0. 0.]\n",
            " [0. 0. 0. ... 0. 1. 0.]]\n"
          ],
          "name": "stdout"
        }
      ]
    },
    {
      "cell_type": "code",
      "metadata": {
        "id": "c9bSwUV0GiE4",
        "colab": {
          "base_uri": "https://localhost:8080/",
          "height": 255
        },
        "outputId": "f1726273-e89e-4d09-966d-a6c63481673e"
      },
      "source": [
        "model = Sequential()\n",
        "model.add(Dense(10, input_shape=(784,)))\n",
        "model.add(Dense(10, activation='relu'))\n",
        "model.add(Activation('softmax'))\n",
        "model.summary()\n"
      ],
      "execution_count": null,
      "outputs": [
        {
          "output_type": "stream",
          "text": [
            "Model: \"sequential_9\"\n",
            "_________________________________________________________________\n",
            "Layer (type)                 Output Shape              Param #   \n",
            "=================================================================\n",
            "dense_15 (Dense)             (None, 10)                7850      \n",
            "_________________________________________________________________\n",
            "dense_16 (Dense)             (None, 10)                110       \n",
            "_________________________________________________________________\n",
            "activation_6 (Activation)    (None, 10)                0         \n",
            "=================================================================\n",
            "Total params: 7,960\n",
            "Trainable params: 7,960\n",
            "Non-trainable params: 0\n",
            "_________________________________________________________________\n"
          ],
          "name": "stdout"
        }
      ]
    },
    {
      "cell_type": "code",
      "metadata": {
        "id": "ZgIw8Lc5KwLr",
        "colab": {
          "base_uri": "https://localhost:8080/",
          "height": 1000
        },
        "outputId": "5631c7a4-63ff-4d90-8421-45a473110169"
      },
      "source": [
        "model.compile(loss='categorical_crossentropy', optimizer=SGD(), metrics=['acc'])\n",
        "model_train = model.fit(x_train, Y_train, batch_size=100, epochs=50, verbose=1, validation_split=(0.05))\n",
        "\n",
        "plt.plot(model_train.history['acc'], label='Train')\n",
        "plt.plot(model_train.history['val_acc'], label='Test')\n",
        "plt.title('Model Accuracy - Train and Test')\n",
        "plt.xlabel('Epoch number')\n",
        "plt.ylabel('Accuracy')\n",
        "plt.legend(loc='lower right')\n",
        "plt.show()"
      ],
      "execution_count": null,
      "outputs": [
        {
          "output_type": "stream",
          "text": [
            "Train on 57000 samples, validate on 3000 samples\n",
            "Epoch 1/50\n",
            "57000/57000 [==============================] - 1s 17us/step - loss: 1.4887 - acc: 0.5676 - val_loss: 1.0180 - val_acc: 0.7073\n",
            "Epoch 2/50\n",
            "57000/57000 [==============================] - 1s 17us/step - loss: 0.8986 - acc: 0.7502 - val_loss: 0.6437 - val_acc: 0.8317\n",
            "Epoch 3/50\n",
            "57000/57000 [==============================] - 1s 16us/step - loss: 0.7002 - acc: 0.8009 - val_loss: 0.5697 - val_acc: 0.8350\n",
            "Epoch 4/50\n",
            "57000/57000 [==============================] - 1s 17us/step - loss: 0.6462 - acc: 0.8097 - val_loss: 0.5322 - val_acc: 0.8427\n",
            "Epoch 5/50\n",
            "57000/57000 [==============================] - 1s 16us/step - loss: 0.6133 - acc: 0.8148 - val_loss: 0.5083 - val_acc: 0.8453\n",
            "Epoch 6/50\n",
            "57000/57000 [==============================] - 1s 17us/step - loss: 0.5910 - acc: 0.8190 - val_loss: 0.4921 - val_acc: 0.8460\n",
            "Epoch 7/50\n",
            "57000/57000 [==============================] - 1s 17us/step - loss: 0.5748 - acc: 0.8216 - val_loss: 0.4805 - val_acc: 0.8467\n",
            "Epoch 8/50\n",
            "57000/57000 [==============================] - 1s 17us/step - loss: 0.5621 - acc: 0.8238 - val_loss: 0.4718 - val_acc: 0.8477\n",
            "Epoch 9/50\n",
            "57000/57000 [==============================] - 1s 17us/step - loss: 0.5523 - acc: 0.8260 - val_loss: 0.4642 - val_acc: 0.8490\n",
            "Epoch 10/50\n",
            "57000/57000 [==============================] - 1s 17us/step - loss: 0.5440 - acc: 0.8273 - val_loss: 0.4584 - val_acc: 0.8507\n",
            "Epoch 11/50\n",
            "57000/57000 [==============================] - 1s 16us/step - loss: 0.5370 - acc: 0.8285 - val_loss: 0.4546 - val_acc: 0.8513\n",
            "Epoch 12/50\n",
            "57000/57000 [==============================] - 1s 16us/step - loss: 0.5309 - acc: 0.8297 - val_loss: 0.4507 - val_acc: 0.8507\n",
            "Epoch 13/50\n",
            "57000/57000 [==============================] - 1s 17us/step - loss: 0.5258 - acc: 0.8307 - val_loss: 0.4471 - val_acc: 0.8497\n",
            "Epoch 14/50\n",
            "57000/57000 [==============================] - 1s 17us/step - loss: 0.5212 - acc: 0.8317 - val_loss: 0.4434 - val_acc: 0.8513\n",
            "Epoch 15/50\n",
            "57000/57000 [==============================] - 1s 16us/step - loss: 0.5170 - acc: 0.8323 - val_loss: 0.4412 - val_acc: 0.8523\n",
            "Epoch 16/50\n",
            "57000/57000 [==============================] - 1s 16us/step - loss: 0.5133 - acc: 0.8332 - val_loss: 0.4380 - val_acc: 0.8527\n",
            "Epoch 17/50\n",
            "57000/57000 [==============================] - 1s 17us/step - loss: 0.5098 - acc: 0.8339 - val_loss: 0.4371 - val_acc: 0.8540\n",
            "Epoch 18/50\n",
            "57000/57000 [==============================] - 1s 16us/step - loss: 0.5068 - acc: 0.8342 - val_loss: 0.4344 - val_acc: 0.8533\n",
            "Epoch 19/50\n",
            "57000/57000 [==============================] - 1s 17us/step - loss: 0.5040 - acc: 0.8351 - val_loss: 0.4328 - val_acc: 0.8540\n",
            "Epoch 20/50\n",
            "57000/57000 [==============================] - 1s 16us/step - loss: 0.5015 - acc: 0.8353 - val_loss: 0.4317 - val_acc: 0.8533\n",
            "Epoch 21/50\n",
            "57000/57000 [==============================] - 1s 16us/step - loss: 0.4990 - acc: 0.8361 - val_loss: 0.4300 - val_acc: 0.8543\n",
            "Epoch 22/50\n",
            "57000/57000 [==============================] - 1s 16us/step - loss: 0.4969 - acc: 0.8362 - val_loss: 0.4282 - val_acc: 0.8553\n",
            "Epoch 23/50\n",
            "57000/57000 [==============================] - 1s 16us/step - loss: 0.4948 - acc: 0.8367 - val_loss: 0.4268 - val_acc: 0.8550\n",
            "Epoch 24/50\n",
            "57000/57000 [==============================] - 1s 17us/step - loss: 0.4928 - acc: 0.8374 - val_loss: 0.4265 - val_acc: 0.8553\n",
            "Epoch 25/50\n",
            "57000/57000 [==============================] - 1s 16us/step - loss: 0.4910 - acc: 0.8375 - val_loss: 0.4250 - val_acc: 0.8580\n",
            "Epoch 26/50\n",
            "57000/57000 [==============================] - 1s 17us/step - loss: 0.4893 - acc: 0.8377 - val_loss: 0.4237 - val_acc: 0.8550\n",
            "Epoch 27/50\n",
            "57000/57000 [==============================] - 1s 17us/step - loss: 0.4878 - acc: 0.8383 - val_loss: 0.4234 - val_acc: 0.8563\n",
            "Epoch 28/50\n",
            "57000/57000 [==============================] - 1s 17us/step - loss: 0.4863 - acc: 0.8383 - val_loss: 0.4226 - val_acc: 0.8570\n",
            "Epoch 29/50\n",
            "57000/57000 [==============================] - 1s 17us/step - loss: 0.4849 - acc: 0.8392 - val_loss: 0.4215 - val_acc: 0.8560\n",
            "Epoch 30/50\n",
            "57000/57000 [==============================] - 1s 17us/step - loss: 0.4835 - acc: 0.8392 - val_loss: 0.4202 - val_acc: 0.8550\n",
            "Epoch 31/50\n",
            "57000/57000 [==============================] - 1s 16us/step - loss: 0.4823 - acc: 0.8395 - val_loss: 0.4202 - val_acc: 0.8540\n",
            "Epoch 32/50\n",
            "57000/57000 [==============================] - 1s 17us/step - loss: 0.4810 - acc: 0.8398 - val_loss: 0.4198 - val_acc: 0.8557\n",
            "Epoch 33/50\n",
            "57000/57000 [==============================] - 1s 17us/step - loss: 0.4800 - acc: 0.8401 - val_loss: 0.4187 - val_acc: 0.8557\n",
            "Epoch 34/50\n",
            "57000/57000 [==============================] - 1s 17us/step - loss: 0.4789 - acc: 0.8404 - val_loss: 0.4186 - val_acc: 0.8587\n",
            "Epoch 35/50\n",
            "57000/57000 [==============================] - 1s 16us/step - loss: 0.4778 - acc: 0.8405 - val_loss: 0.4173 - val_acc: 0.8570\n",
            "Epoch 36/50\n",
            "57000/57000 [==============================] - 1s 16us/step - loss: 0.4767 - acc: 0.8407 - val_loss: 0.4167 - val_acc: 0.8573\n",
            "Epoch 37/50\n",
            "57000/57000 [==============================] - 1s 17us/step - loss: 0.4758 - acc: 0.8412 - val_loss: 0.4168 - val_acc: 0.8570\n",
            "Epoch 38/50\n",
            "57000/57000 [==============================] - 1s 16us/step - loss: 0.4749 - acc: 0.8414 - val_loss: 0.4164 - val_acc: 0.8583\n",
            "Epoch 39/50\n",
            "57000/57000 [==============================] - 1s 16us/step - loss: 0.4739 - acc: 0.8414 - val_loss: 0.4153 - val_acc: 0.8570\n",
            "Epoch 40/50\n",
            "57000/57000 [==============================] - 1s 16us/step - loss: 0.4731 - acc: 0.8421 - val_loss: 0.4146 - val_acc: 0.8577\n",
            "Epoch 41/50\n",
            "57000/57000 [==============================] - 1s 16us/step - loss: 0.4724 - acc: 0.8419 - val_loss: 0.4153 - val_acc: 0.8587\n",
            "Epoch 42/50\n",
            "57000/57000 [==============================] - 1s 17us/step - loss: 0.4715 - acc: 0.8420 - val_loss: 0.4147 - val_acc: 0.8583\n",
            "Epoch 43/50\n",
            "57000/57000 [==============================] - 1s 17us/step - loss: 0.4707 - acc: 0.8421 - val_loss: 0.4139 - val_acc: 0.8583\n",
            "Epoch 44/50\n",
            "57000/57000 [==============================] - 1s 16us/step - loss: 0.4699 - acc: 0.8425 - val_loss: 0.4139 - val_acc: 0.8577\n",
            "Epoch 45/50\n",
            "57000/57000 [==============================] - 1s 16us/step - loss: 0.4692 - acc: 0.8426 - val_loss: 0.4124 - val_acc: 0.8583\n",
            "Epoch 46/50\n",
            "57000/57000 [==============================] - 1s 17us/step - loss: 0.4685 - acc: 0.8426 - val_loss: 0.4132 - val_acc: 0.8587\n",
            "Epoch 47/50\n",
            "57000/57000 [==============================] - 1s 17us/step - loss: 0.4679 - acc: 0.8427 - val_loss: 0.4125 - val_acc: 0.8590\n",
            "Epoch 48/50\n",
            "57000/57000 [==============================] - 1s 16us/step - loss: 0.4671 - acc: 0.8426 - val_loss: 0.4119 - val_acc: 0.8587\n",
            "Epoch 49/50\n",
            "57000/57000 [==============================] - 1s 17us/step - loss: 0.4665 - acc: 0.8430 - val_loss: 0.4115 - val_acc: 0.8580\n",
            "Epoch 50/50\n",
            "57000/57000 [==============================] - 1s 17us/step - loss: 0.4659 - acc: 0.8433 - val_loss: 0.4115 - val_acc: 0.8590\n"
          ],
          "name": "stdout"
        },
        {
          "output_type": "display_data",
          "data": {
            "image/png": "[encoded data removed]",
            "text/plain": [
              "<Figure size 432x288 with 1 Axes>"
            ]
          },
          "metadata": {
            "tags": [],
            "needs_background": "light"
          }
        }
      ]
    },
    {
      "cell_type": "code",
      "metadata": {
        "id": "jUsM_i6bOPMU",
        "colab": {
          "base_uri": "https://localhost:8080/",
          "height": 34
        },
        "outputId": "805b731f-9416-43f9-a0e1-4d7a97a82c92"
      },
      "source": [
        "score = model.evaluate(x_test, Y_test, verbose=0)\n",
        "print('Test Accuracy: {}'.format(score[1]))"
      ],
      "execution_count": null,
      "outputs": [
        {
          "output_type": "stream",
          "text": [
            "Test Accuracy: 0.8432000279426575\n"
          ],
          "name": "stdout"
        }
      ]
    },
    {
      "cell_type": "code",
      "metadata": {
        "id": "_LOxkpPZMdqD"
      },
      "source": [
        "\n"
      ],
      "execution_count": null,
      "outputs": []
    }
  ]
}